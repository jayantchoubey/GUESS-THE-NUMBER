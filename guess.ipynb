{
 "cells": [
  {
   "cell_type": "markdown",
   "metadata": {},
   "source": [
    "Code for Computer to Generate a random number and the user to guess it."
   ]
  },
  {
   "cell_type": "code",
   "execution_count": 12,
   "metadata": {},
   "outputs": [],
   "source": [
    "import random"
   ]
  },
  {
   "cell_type": "code",
   "execution_count": 13,
   "metadata": {},
   "outputs": [],
   "source": [
    "def guessNumber(num):\n",
    "    random_number = random.randint(1, num)\n",
    "    guess = 0\n",
    "    while guess != random_number:\n",
    "        guess = int(input(f'Enter a Number between 1 and {num}: '))\n",
    "        if guess < random_number:\n",
    "            print('Guessed number is smaller.')\n",
    "        elif guess > random_number:\n",
    "            print('Guessed number is greater.')\n",
    "    \n",
    "    print(f'Congrats!!! You guessed the number correctly which was {random_number}.')"
   ]
  },
  {
   "cell_type": "markdown",
   "metadata": {},
   "source": [
    "Code for Computer to guess the number and user to verify."
   ]
  },
  {
   "cell_type": "code",
   "execution_count": 21,
   "metadata": {},
   "outputs": [],
   "source": [
    "def guessComputer(num):\n",
    "    low = 1\n",
    "    high = num\n",
    "    feedback = ''\n",
    "    while feedback != 'c':\n",
    "        if high != low:\n",
    "            guess = random.randint(low, high)\n",
    "        else:\n",
    "            guess = low\n",
    "        feedback = input(f'Is the given number, {guess} correct(c) or high(h) or low(l)?').lower()\n",
    "        if feedback == 'h':\n",
    "            high = guess - 1\n",
    "        elif feedback == 'l':\n",
    "            low = guess + 1\n",
    "    print(f'Yay!! Lappy guessed ur number, {guess}, correctly.')\n"
   ]
  },
  {
   "cell_type": "code",
   "execution_count": 20,
   "metadata": {},
   "outputs": [
    {
     "name": "stdout",
     "output_type": "stream",
     "text": [
      "Guessed number is greater.\n",
      "Guessed number is smaller.\n",
      "Guessed number is greater.\n",
      "Congrats!!! You guessed the number correctly which was 43.\n"
     ]
    }
   ],
   "source": [
    "num = int(input(\"Enter a number to guess numbers between 1 and the number.\"))\n",
    "guessNumber(num)"
   ]
  },
  {
   "cell_type": "code",
   "execution_count": 22,
   "metadata": {},
   "outputs": [
    {
     "name": "stdout",
     "output_type": "stream",
     "text": [
      "Yay!! Lappy guessed ur number, 41, correctly.\n"
     ]
    }
   ],
   "source": [
    "num = int(input(\"Enter a number to guess numbers between 1 and the number.\"))\n",
    "guessComputer(num)"
   ]
  }
 ],
 "metadata": {
  "kernelspec": {
   "display_name": "Python 3.10.6 64-bit",
   "language": "python",
   "name": "python3"
  },
  "language_info": {
   "codemirror_mode": {
    "name": "ipython",
    "version": 3
   },
   "file_extension": ".py",
   "mimetype": "text/x-python",
   "name": "python",
   "nbconvert_exporter": "python",
   "pygments_lexer": "ipython3",
   "version": "3.10.6"
  },
  "orig_nbformat": 4,
  "vscode": {
   "interpreter": {
    "hash": "50086019b946be6b8de9e4507aca4eaed3098a81c34f2e0b613952d5498a431a"
   }
  }
 },
 "nbformat": 4,
 "nbformat_minor": 2
}
